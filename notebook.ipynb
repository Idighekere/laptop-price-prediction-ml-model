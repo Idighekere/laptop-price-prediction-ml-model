{
 "cells": [
  {
   "cell_type": "markdown",
   "id": "39cb9db5",
   "metadata": {},
   "source": [
    "# Laptop Price Prediction\n",
    "\n",
    "- **Dataset:** [Laptop Price Dataset on Kaggle](https://www.kaggle.com/datasets/muhammetvarl/laptop-price)\n",
    "- **Group:** Group **D**\n",
    "- **Task**: Developong a robust linear regression model that can predict the price of a laptop given its various attributes\n",
    "- **Random State:** 5\n",
    "- **Test Size:** 25%"
   ]
  },
  {
   "cell_type": "markdown",
   "id": "4927e6e2",
   "metadata": {},
   "source": [
    "## Importing dependencies and Initializations\n"
   ]
  },
  {
   "cell_type": "code",
   "execution_count": null,
   "id": "32543dd5",
   "metadata": {},
   "outputs": [],
   "source": [
    "import pandas as pd\n",
    "import seaborn as sns\n",
    "import matplotlib.pyplot as plt\n",
    "import numpy as np\n",
    "\n",
    "# Initializing constants to be used in model building\n",
    "RANDOM_STATE=5\n",
    "TEST_SIZE=25/100 # i.e 25 %"
   ]
  },
  {
   "cell_type": "markdown",
   "id": "24989fb0",
   "metadata": {},
   "source": [
    "## Loading datasets \n",
    "\n"
   ]
  },
  {
   "cell_type": "code",
   "execution_count": null,
   "id": "765410e9",
   "metadata": {},
   "outputs": [],
   "source": [
    "df=pd.read_csv(\"dataset/laptop_price.csv\",encoding='latin-1')\n",
    "\n",
    "# display first 10 rows\n",
    "df.head(10)\n",
    "# Display the number of rows and columns\n",
    "df.shape"
   ]
  },
  {
   "cell_type": "markdown",
   "id": "97beb841",
   "metadata": {},
   "source": [
    "## Data Cleaning and Preprocessing:\n",
    "\n",
    "1. Identify and handle missing values appropriately."
   ]
  },
  {
   "cell_type": "code",
   "execution_count": null,
   "id": "8da18353",
   "metadata": {},
   "outputs": [],
   "source": []
  },
  {
   "cell_type": "markdown",
   "id": "2f20ad90",
   "metadata": {},
   "source": [
    "2. Address outliers in numerical features."
   ]
  },
  {
   "cell_type": "code",
   "execution_count": null,
   "id": "8d99995e",
   "metadata": {},
   "outputs": [],
   "source": []
  },
  {
   "cell_type": "markdown",
   "id": "e6382cdd",
   "metadata": {},
   "source": [
    "3. Convert categorical features into numerical representations suitable for machine learning algorithms. Clearly document your chosen encoding strategies."
   ]
  },
  {
   "cell_type": "code",
   "execution_count": null,
   "id": "97cf3b0e",
   "metadata": {},
   "outputs": [],
   "source": []
  },
  {
   "cell_type": "markdown",
   "id": "781b57f4",
   "metadata": {},
   "source": [
    "## Exploratory Data Analysis (EDA)\n",
    "\n",
    "1. Conduct a comprehensive EDA to understand the distribution of features and their relationships with the price."
   ]
  },
  {
   "cell_type": "code",
   "execution_count": null,
   "id": "a883cf68",
   "metadata": {},
   "outputs": [],
   "source": []
  },
  {
   "cell_type": "markdown",
   "id": "22bbff30",
   "metadata": {},
   "source": [
    "2. Generate relevant visualizations (e.g., histograms, scatter plots, box plots, and correlation heatmaps) to illustrate key insights."
   ]
  },
  {
   "cell_type": "code",
   "execution_count": null,
   "id": "35b38bab",
   "metadata": {},
   "outputs": [],
   "source": []
  },
  {
   "cell_type": "markdown",
   "id": "3b96d508",
   "metadata": {},
   "source": [
    "3. Identify and discuss the most influential factors affecting car prices based on your analysis."
   ]
  },
  {
   "cell_type": "code",
   "execution_count": null,
   "id": "107ace7b",
   "metadata": {},
   "outputs": [],
   "source": []
  },
  {
   "cell_type": "markdown",
   "id": "d0ff0c77",
   "metadata": {},
   "source": [
    "## Feature Engineering\n",
    "\n",
    "1. Create new and meaningful features from the existing dataset where possible."
   ]
  },
  {
   "cell_type": "code",
   "execution_count": null,
   "id": "98191b45",
   "metadata": {},
   "outputs": [],
   "source": []
  },
  {
   "cell_type": "markdown",
   "id": "71bd6b24",
   "metadata": {},
   "source": [
    "2.  Justify the creation of any new features and explain how they might improve model performance."
   ]
  },
  {
   "cell_type": "code",
   "execution_count": null,
   "id": "79a7e569",
   "metadata": {},
   "outputs": [],
   "source": []
  },
  {
   "cell_type": "markdown",
   "id": "7dad2f7e",
   "metadata": {},
   "source": [
    "## Model Building\n",
    "\n",
    "1.  Split your data into training and testing sets."
   ]
  },
  {
   "cell_type": "code",
   "execution_count": null,
   "id": "03f720f9",
   "metadata": {},
   "outputs": [],
   "source": []
  },
  {
   "cell_type": "markdown",
   "id": "39e28d38",
   "metadata": {},
   "source": [
    "2. Build a linear regression model for laptop price prediction"
   ]
  },
  {
   "cell_type": "code",
   "execution_count": null,
   "id": "d8ee9ee9",
   "metadata": {},
   "outputs": [],
   "source": []
  },
  {
   "cell_type": "markdown",
   "id": "b8290a7c",
   "metadata": {},
   "source": [
    "3. Train the regression model on the training data.\n"
   ]
  },
  {
   "cell_type": "code",
   "execution_count": null,
   "id": "6e06b5f4",
   "metadata": {},
   "outputs": [],
   "source": []
  },
  {
   "cell_type": "markdown",
   "id": "ee70aac9",
   "metadata": {},
   "source": [
    "## Model Evaluation\n",
    "\n",
    "1. Evaluate the performance of your trained models on the test set using appropriate regression metrics such as Root Mean Squared Error (RMSE), Mean Absolute Error (MAE), and R-squared (R²)."
   ]
  },
  {
   "cell_type": "code",
   "execution_count": null,
   "id": "82aaa864",
   "metadata": {},
   "outputs": [],
   "source": []
  },
  {
   "cell_type": "markdown",
   "id": "a7f074c9",
   "metadata": {},
   "source": [
    "## Save Model and Preprocessing Objects"
   ]
  },
  {
   "cell_type": "code",
   "execution_count": null,
   "id": "b02fa8a4",
   "metadata": {},
   "outputs": [],
   "source": []
  }
 ],
 "metadata": {
  "kernelspec": {
   "display_name": ".venv",
   "language": "python",
   "name": "python3"
  },
  "language_info": {
   "codemirror_mode": {
    "name": "ipython",
    "version": 3
   },
   "file_extension": ".py",
   "mimetype": "text/x-python",
   "name": "python",
   "nbconvert_exporter": "python",
   "pygments_lexer": "ipython3",
   "version": "3.13.1"
  }
 },
 "nbformat": 4,
 "nbformat_minor": 5
}
