{
 "cells": [
  {
   "cell_type": "markdown",
   "id": "39cb9db5",
   "metadata": {},
   "source": [
    "# Laptop Price Prediction\n",
    "\n",
    "- **Dataset:** [Laptop Price Dataset on Kaggle](https://www.kaggle.com/datasets/muhammetvarl/laptop-price)\n",
    "- **Group:** Group **D**\n",
    "- **Task**: Developong a robust linear regression model that can predict the price of a laptop given its various attributes\n",
    "- **Random State:** 5\n",
    "- **Test Size:** 25%"
   ]
  },
  {
   "cell_type": "markdown",
   "id": "4927e6e2",
   "metadata": {},
   "source": [
    "## Importing dependencies and Initializations\n"
   ]
  },
  {
   "cell_type": "code",
   "execution_count": 2,
   "id": "32543dd5",
   "metadata": {},
   "outputs": [],
   "source": [
    "import pandas as pd\n",
    "import seaborn as sns\n",
    "import matplotlib.pyplot as plt\n",
    "import numpy as np\n",
    "\n",
    "# Initializing constants to be used in model building\n",
    "RANDOM_STATE=5\n",
    "TEST_SIZE=25/100 # i.e 25 %"
   ]
  },
  {
   "cell_type": "markdown",
   "id": "24989fb0",
   "metadata": {},
   "source": [
    "## Loading datasets \n",
    "\n"
   ]
  },
  {
   "cell_type": "code",
   "execution_count": 31,
   "id": "765410e9",
   "metadata": {},
   "outputs": [
    {
     "data": {
      "text/plain": [
       "(1303, 13)"
      ]
     },
     "execution_count": 31,
     "metadata": {},
     "output_type": "execute_result"
    }
   ],
   "source": [
    "df=pd.read_csv(\"dataset/laptop_price.csv\",encoding='latin-1')\n",
    "\n",
    "# display first 10 rows\n",
    "df.head(10)\n",
    "# Display the number of rows and columns\n",
    "df.shape"
   ]
  },
  {
   "cell_type": "markdown",
   "id": "97beb841",
   "metadata": {},
   "source": [
    "## Data Cleaning and Preprocessing:\n",
    "\n",
    "1. Identify and handle missing values appropriately."
   ]
  },
  {
   "cell_type": "code",
   "execution_count": 4,
   "id": "8da18353",
   "metadata": {},
   "outputs": [
    {
     "data": {
      "text/plain": [
       "laptop_ID           0\n",
       "Company             0\n",
       "Product             0\n",
       "TypeName            0\n",
       "Inches              0\n",
       "ScreenResolution    0\n",
       "Cpu                 0\n",
       "Ram                 0\n",
       "Memory              0\n",
       "Gpu                 0\n",
       "OpSys               0\n",
       "Weight              0\n",
       "Price_euros         0\n",
       "dtype: int64"
      ]
     },
     "execution_count": 4,
     "metadata": {},
     "output_type": "execute_result"
    }
   ],
   "source": [
    "\n",
    "# Identifying Missing Vlues\n",
    "df.isnull().sum()\n",
    "# The result shows that there are no missing values"
   ]
  },
  {
   "cell_type": "markdown",
   "id": "2f20ad90",
   "metadata": {},
   "source": [
    "2. Address outliers in numerical features."
   ]
  },
  {
   "cell_type": "code",
   "execution_count": 39,
   "id": "8d99995e",
   "metadata": {},
   "outputs": [
    {
     "data": {
      "text/html": [
       "<div>\n",
       "<style scoped>\n",
       "    .dataframe tbody tr th:only-of-type {\n",
       "        vertical-align: middle;\n",
       "    }\n",
       "\n",
       "    .dataframe tbody tr th {\n",
       "        vertical-align: top;\n",
       "    }\n",
       "\n",
       "    .dataframe thead th {\n",
       "        text-align: right;\n",
       "    }\n",
       "</style>\n",
       "<table border=\"1\" class=\"dataframe\">\n",
       "  <thead>\n",
       "    <tr style=\"text-align: right;\">\n",
       "      <th></th>\n",
       "      <th>laptop_ID</th>\n",
       "      <th>Company</th>\n",
       "      <th>Product</th>\n",
       "      <th>TypeName</th>\n",
       "      <th>Inches</th>\n",
       "      <th>ScreenResolution</th>\n",
       "      <th>Cpu</th>\n",
       "      <th>Ram</th>\n",
       "      <th>Memory</th>\n",
       "      <th>Gpu</th>\n",
       "      <th>OpSys</th>\n",
       "      <th>Weight</th>\n",
       "      <th>Price_euros</th>\n",
       "    </tr>\n",
       "  </thead>\n",
       "  <tbody>\n",
       "    <tr>\n",
       "      <th>0</th>\n",
       "      <td>1</td>\n",
       "      <td>Apple</td>\n",
       "      <td>MacBook Pro</td>\n",
       "      <td>Ultrabook</td>\n",
       "      <td>13.3</td>\n",
       "      <td>2560x1600</td>\n",
       "      <td>Intel Core i5 2.3GHz</td>\n",
       "      <td>8</td>\n",
       "      <td>128GB SSD</td>\n",
       "      <td>Intel Iris Plus Graphics 640</td>\n",
       "      <td>macOS</td>\n",
       "      <td>1.37</td>\n",
       "      <td>1339.69</td>\n",
       "    </tr>\n",
       "    <tr>\n",
       "      <th>1</th>\n",
       "      <td>2</td>\n",
       "      <td>Apple</td>\n",
       "      <td>Macbook Air</td>\n",
       "      <td>Ultrabook</td>\n",
       "      <td>13.3</td>\n",
       "      <td>1440x900</td>\n",
       "      <td>Intel Core i5 1.8GHz</td>\n",
       "      <td>8</td>\n",
       "      <td>128GB Flash Storage</td>\n",
       "      <td>Intel HD Graphics 6000</td>\n",
       "      <td>macOS</td>\n",
       "      <td>1.34</td>\n",
       "      <td>898.94</td>\n",
       "    </tr>\n",
       "    <tr>\n",
       "      <th>2</th>\n",
       "      <td>3</td>\n",
       "      <td>HP</td>\n",
       "      <td>250 G6</td>\n",
       "      <td>Notebook</td>\n",
       "      <td>15.6</td>\n",
       "      <td>1920x1080</td>\n",
       "      <td>Intel Core i5 7200U 2.5GHz</td>\n",
       "      <td>8</td>\n",
       "      <td>256GB SSD</td>\n",
       "      <td>Intel HD Graphics 620</td>\n",
       "      <td>No OS</td>\n",
       "      <td>1.86</td>\n",
       "      <td>575.00</td>\n",
       "    </tr>\n",
       "    <tr>\n",
       "      <th>4</th>\n",
       "      <td>5</td>\n",
       "      <td>Apple</td>\n",
       "      <td>MacBook Pro</td>\n",
       "      <td>Ultrabook</td>\n",
       "      <td>13.3</td>\n",
       "      <td>2560x1600</td>\n",
       "      <td>Intel Core i5 3.1GHz</td>\n",
       "      <td>8</td>\n",
       "      <td>256GB SSD</td>\n",
       "      <td>Intel Iris Plus Graphics 650</td>\n",
       "      <td>macOS</td>\n",
       "      <td>1.37</td>\n",
       "      <td>1803.60</td>\n",
       "    </tr>\n",
       "    <tr>\n",
       "      <th>5</th>\n",
       "      <td>6</td>\n",
       "      <td>Acer</td>\n",
       "      <td>Aspire 3</td>\n",
       "      <td>Notebook</td>\n",
       "      <td>15.6</td>\n",
       "      <td>1366x768</td>\n",
       "      <td>AMD A9-Series 9420 3GHz</td>\n",
       "      <td>4</td>\n",
       "      <td>500GB HDD</td>\n",
       "      <td>AMD Radeon R5</td>\n",
       "      <td>Windows 10</td>\n",
       "      <td>2.10</td>\n",
       "      <td>400.00</td>\n",
       "    </tr>\n",
       "    <tr>\n",
       "      <th>...</th>\n",
       "      <td>...</td>\n",
       "      <td>...</td>\n",
       "      <td>...</td>\n",
       "      <td>...</td>\n",
       "      <td>...</td>\n",
       "      <td>...</td>\n",
       "      <td>...</td>\n",
       "      <td>...</td>\n",
       "      <td>...</td>\n",
       "      <td>...</td>\n",
       "      <td>...</td>\n",
       "      <td>...</td>\n",
       "      <td>...</td>\n",
       "    </tr>\n",
       "    <tr>\n",
       "      <th>1297</th>\n",
       "      <td>1315</td>\n",
       "      <td>Asus</td>\n",
       "      <td>X556UJ-XO044T (i7-6500U/4GB/500GB/GeForce</td>\n",
       "      <td>Notebook</td>\n",
       "      <td>15.6</td>\n",
       "      <td>1366x768</td>\n",
       "      <td>Intel Core i7 6500U 2.5GHz</td>\n",
       "      <td>4</td>\n",
       "      <td>500GB HDD</td>\n",
       "      <td>Nvidia GeForce 920M</td>\n",
       "      <td>Windows 10</td>\n",
       "      <td>2.20</td>\n",
       "      <td>720.32</td>\n",
       "    </tr>\n",
       "    <tr>\n",
       "      <th>1298</th>\n",
       "      <td>1316</td>\n",
       "      <td>Lenovo</td>\n",
       "      <td>Yoga 500-14ISK</td>\n",
       "      <td>2 in 1 Convertible</td>\n",
       "      <td>14.0</td>\n",
       "      <td>1920x1080</td>\n",
       "      <td>Intel Core i7 6500U 2.5GHz</td>\n",
       "      <td>4</td>\n",
       "      <td>128GB SSD</td>\n",
       "      <td>Intel HD Graphics 520</td>\n",
       "      <td>Windows 10</td>\n",
       "      <td>1.80</td>\n",
       "      <td>638.00</td>\n",
       "    </tr>\n",
       "    <tr>\n",
       "      <th>1300</th>\n",
       "      <td>1318</td>\n",
       "      <td>Lenovo</td>\n",
       "      <td>IdeaPad 100S-14IBR</td>\n",
       "      <td>Notebook</td>\n",
       "      <td>14.0</td>\n",
       "      <td>1366x768</td>\n",
       "      <td>Intel Celeron Dual Core N3050 1.6GHz</td>\n",
       "      <td>2</td>\n",
       "      <td>64GB Flash Storage</td>\n",
       "      <td>Intel HD Graphics</td>\n",
       "      <td>Windows 10</td>\n",
       "      <td>1.50</td>\n",
       "      <td>229.00</td>\n",
       "    </tr>\n",
       "    <tr>\n",
       "      <th>1301</th>\n",
       "      <td>1319</td>\n",
       "      <td>HP</td>\n",
       "      <td>15-AC110nv (i7-6500U/6GB/1TB/Radeon</td>\n",
       "      <td>Notebook</td>\n",
       "      <td>15.6</td>\n",
       "      <td>1366x768</td>\n",
       "      <td>Intel Core i7 6500U 2.5GHz</td>\n",
       "      <td>6</td>\n",
       "      <td>1TB HDD</td>\n",
       "      <td>AMD Radeon R5 M330</td>\n",
       "      <td>Windows 10</td>\n",
       "      <td>2.19</td>\n",
       "      <td>764.00</td>\n",
       "    </tr>\n",
       "    <tr>\n",
       "      <th>1302</th>\n",
       "      <td>1320</td>\n",
       "      <td>Asus</td>\n",
       "      <td>X553SA-XX031T (N3050/4GB/500GB/W10)</td>\n",
       "      <td>Notebook</td>\n",
       "      <td>15.6</td>\n",
       "      <td>1366x768</td>\n",
       "      <td>Intel Celeron Dual Core N3050 1.6GHz</td>\n",
       "      <td>4</td>\n",
       "      <td>500GB HDD</td>\n",
       "      <td>Intel HD Graphics</td>\n",
       "      <td>Windows 10</td>\n",
       "      <td>2.20</td>\n",
       "      <td>369.00</td>\n",
       "    </tr>\n",
       "  </tbody>\n",
       "</table>\n",
       "<p>1008 rows × 13 columns</p>\n",
       "</div>"
      ],
      "text/plain": [
       "      laptop_ID Company                                    Product  \\\n",
       "0             1   Apple                                MacBook Pro   \n",
       "1             2   Apple                                Macbook Air   \n",
       "2             3      HP                                     250 G6   \n",
       "4             5   Apple                                MacBook Pro   \n",
       "5             6    Acer                                   Aspire 3   \n",
       "...         ...     ...                                        ...   \n",
       "1297       1315    Asus  X556UJ-XO044T (i7-6500U/4GB/500GB/GeForce   \n",
       "1298       1316  Lenovo                             Yoga 500-14ISK   \n",
       "1300       1318  Lenovo                         IdeaPad 100S-14IBR   \n",
       "1301       1319      HP        15-AC110nv (i7-6500U/6GB/1TB/Radeon   \n",
       "1302       1320    Asus        X553SA-XX031T (N3050/4GB/500GB/W10)   \n",
       "\n",
       "                TypeName  Inches ScreenResolution  \\\n",
       "0              Ultrabook    13.3        2560x1600   \n",
       "1              Ultrabook    13.3         1440x900   \n",
       "2               Notebook    15.6        1920x1080   \n",
       "4              Ultrabook    13.3        2560x1600   \n",
       "5               Notebook    15.6         1366x768   \n",
       "...                  ...     ...              ...   \n",
       "1297            Notebook    15.6         1366x768   \n",
       "1298  2 in 1 Convertible    14.0        1920x1080   \n",
       "1300            Notebook    14.0         1366x768   \n",
       "1301            Notebook    15.6         1366x768   \n",
       "1302            Notebook    15.6         1366x768   \n",
       "\n",
       "                                       Cpu  Ram               Memory  \\\n",
       "0                     Intel Core i5 2.3GHz    8            128GB SSD   \n",
       "1                     Intel Core i5 1.8GHz    8  128GB Flash Storage   \n",
       "2               Intel Core i5 7200U 2.5GHz    8            256GB SSD   \n",
       "4                     Intel Core i5 3.1GHz    8            256GB SSD   \n",
       "5                  AMD A9-Series 9420 3GHz    4            500GB HDD   \n",
       "...                                    ...  ...                  ...   \n",
       "1297            Intel Core i7 6500U 2.5GHz    4            500GB HDD   \n",
       "1298            Intel Core i7 6500U 2.5GHz    4            128GB SSD   \n",
       "1300  Intel Celeron Dual Core N3050 1.6GHz    2   64GB Flash Storage   \n",
       "1301            Intel Core i7 6500U 2.5GHz    6              1TB HDD   \n",
       "1302  Intel Celeron Dual Core N3050 1.6GHz    4            500GB HDD   \n",
       "\n",
       "                               Gpu       OpSys  Weight  Price_euros  \n",
       "0     Intel Iris Plus Graphics 640       macOS    1.37      1339.69  \n",
       "1           Intel HD Graphics 6000       macOS    1.34       898.94  \n",
       "2            Intel HD Graphics 620       No OS    1.86       575.00  \n",
       "4     Intel Iris Plus Graphics 650       macOS    1.37      1803.60  \n",
       "5                    AMD Radeon R5  Windows 10    2.10       400.00  \n",
       "...                            ...         ...     ...          ...  \n",
       "1297           Nvidia GeForce 920M  Windows 10    2.20       720.32  \n",
       "1298         Intel HD Graphics 520  Windows 10    1.80       638.00  \n",
       "1300             Intel HD Graphics  Windows 10    1.50       229.00  \n",
       "1301            AMD Radeon R5 M330  Windows 10    2.19       764.00  \n",
       "1302             Intel HD Graphics  Windows 10    2.20       369.00  \n",
       "\n",
       "[1008 rows x 13 columns]"
      ]
     },
     "execution_count": 39,
     "metadata": {},
     "output_type": "execute_result"
    }
   ],
   "source": [
    "\n",
    "## remove gb and kg from Ram and weight and convert the cols to numeric\n",
    "df['Ram'] = df['Ram'].str.replace(\"GB\", \"\")\n",
    "df['Weight'] = df['Weight'].str.replace(\"kg\", \"\")\n",
    "df['Ram'] = df['Ram'].astype('int32')\n",
    "df['Weight'] = df['Weight'].astype('float32')\n",
    "\n",
    "\n",
    "# Identifying nmerial columns\n",
    "numerical_columns = df.select_dtypes(include=np.number).columns\n",
    "\n",
    "# finding outliers\n",
    "\n",
    "for col in numerical_columns:\n",
    "\n",
    "    Q1= df[col].quantile(0.25)\n",
    "    Q3= df[col].quantile(0.75)\n",
    "    IQR= Q3-Q1\n",
    "\n",
    "    lower_bound = Q1 - 1.5 * IQR\n",
    "    upper_bound = Q3 + 1.5 * IQR\n",
    "    IQR\n",
    "\n",
    "    outliers = df[(df[col] < lower_bound) | (df[col] > upper_bound)]\n",
    "    outliers\n",
    "\n",
    "    # Addressing outliers by removing them\n",
    "    df = df[(df[col] >= lower_bound) & (df[col] <= upper_bound)]\n",
    "df"
   ]
  },
  {
   "cell_type": "markdown",
   "id": "e6382cdd",
   "metadata": {},
   "source": [
    "3. Convert categorical features into numerical representations suitable for machine learning algorithms. Clearly document your chosen encoding strategies."
   ]
  },
  {
   "cell_type": "code",
   "execution_count": null,
   "id": "97cf3b0e",
   "metadata": {},
   "outputs": [
    {
     "name": "stdout",
     "output_type": "stream",
     "text": [
      "Categorical columns: ['Company', 'Product', 'TypeName', 'ScreenResolution', 'Cpu', 'Memory', 'Gpu', 'OpSys']\n",
      "Original shape: (1008, 13)\n",
      "Encoded shape: (1008, 43)\n",
      "Columns after encoding: 43\n"
     ]
    }
   ],
   "source": [
    "# Encoding Categorical Features\n",
    "from sklearn.preprocessing import LabelEncoder\n",
    "\n",
    "# Create a copy of the original dataframe\n",
    "df_encoded = df.copy()\n",
    "\n",
    "# Determine categorical features\n",
    "categorical_columns = df.select_dtypes(include=\"object\").columns\n",
    "print(\"Categorical columns:\", list(categorical_columns))\n",
    "\n",
    "\"\"\"\n",
    "One-Hot Encoding Strategy:\n",
    "Columns: Company, TypeName, OpSys\n",
    "Reason: Low number of unique values, nominal (no natural order), important for model\n",
    "\"\"\"\n",
    "one_hot_columns = [\"Company\", \"TypeName\", \"OpSys\"]\n",
    "\n",
    "# Apply one-hot encoding\n",
    "for col in one_hot_columns:\n",
    "    # Create dummy variables\n",
    "    dummies = pd.get_dummies(df_encoded[col], prefix=col, dtype=int)\n",
    "    # Concatenate with the main dataframe\n",
    "    df_encoded = pd.concat([df_encoded, dummies], axis=1)\n",
    "    # Drop the original column\n",
    "    df_encoded.drop(col, axis=1, inplace=True)\n",
    "\n",
    "\"\"\"\n",
    "Label Encoding Strategy:\n",
    "Columns: Product, ScreenResolution, Cpu, Memory, Gpu\n",
    "Reason: High number of unique values - one-hot encoding would create too many columns\n",
    "\"\"\"\n",
    "label_encoded_columns = [\"Product\", \"ScreenResolution\", \"Cpu\", \"Memory\", \"Gpu\"]\n",
    "\n",
    "for col in label_encoded_columns:\n",
    "    le = LabelEncoder()  # Create new encoder for each column\n",
    "    df_encoded[col + \"_encoded\"] = le.fit_transform(df_encoded[col])\n",
    "    # Drop the original column\n",
    "    df_encoded.drop(col, axis=1, inplace=True)\n",
    "\n",
    "print(f\"Original shape: {df.shape}\")\n",
    "print(f\"Encoded shape: {df_encoded.shape}\")\n"
   ]
  },
  {
   "cell_type": "markdown",
   "id": "781b57f4",
   "metadata": {},
   "source": [
    "## Exploratory Data Analysis (EDA)\n",
    "\n",
    "1. Conduct a comprehensive EDA to understand the distribution of features and their relationships with the price."
   ]
  },
  {
   "cell_type": "code",
   "execution_count": null,
   "id": "a883cf68",
   "metadata": {},
   "outputs": [],
   "source": []
  },
  {
   "cell_type": "markdown",
   "id": "22bbff30",
   "metadata": {},
   "source": [
    "2. Generate relevant visualizations (e.g., histograms, scatter plots, box plots, and correlation heatmaps) to illustrate key insights."
   ]
  },
  {
   "cell_type": "code",
   "execution_count": null,
   "id": "35b38bab",
   "metadata": {},
   "outputs": [],
   "source": []
  },
  {
   "cell_type": "markdown",
   "id": "3b96d508",
   "metadata": {},
   "source": [
    "3. Identify and discuss the most influential factors affecting car prices based on your analysis."
   ]
  },
  {
   "cell_type": "code",
   "execution_count": null,
   "id": "107ace7b",
   "metadata": {},
   "outputs": [],
   "source": []
  },
  {
   "cell_type": "markdown",
   "id": "d0ff0c77",
   "metadata": {},
   "source": [
    "## Feature Engineering\n",
    "\n",
    "1. Create new and meaningful features from the existing dataset where possible."
   ]
  },
  {
   "cell_type": "code",
   "execution_count": null,
   "id": "98191b45",
   "metadata": {},
   "outputs": [],
   "source": []
  },
  {
   "cell_type": "markdown",
   "id": "71bd6b24",
   "metadata": {},
   "source": [
    "2.  Justify the creation of any new features and explain how they might improve model performance."
   ]
  },
  {
   "cell_type": "code",
   "execution_count": null,
   "id": "79a7e569",
   "metadata": {},
   "outputs": [],
   "source": []
  },
  {
   "cell_type": "markdown",
   "id": "7dad2f7e",
   "metadata": {},
   "source": [
    "## Model Building\n",
    "\n",
    "1.  Split your data into training and testing sets."
   ]
  },
  {
   "cell_type": "code",
   "execution_count": null,
   "id": "03f720f9",
   "metadata": {},
   "outputs": [],
   "source": []
  },
  {
   "cell_type": "markdown",
   "id": "39e28d38",
   "metadata": {},
   "source": [
    "2. Build a linear regression model for laptop price prediction"
   ]
  },
  {
   "cell_type": "code",
   "execution_count": null,
   "id": "d8ee9ee9",
   "metadata": {},
   "outputs": [],
   "source": []
  },
  {
   "cell_type": "markdown",
   "id": "b8290a7c",
   "metadata": {},
   "source": [
    "3. Train the regression model on the training data.\n"
   ]
  },
  {
   "cell_type": "code",
   "execution_count": null,
   "id": "6e06b5f4",
   "metadata": {},
   "outputs": [],
   "source": []
  },
  {
   "cell_type": "markdown",
   "id": "ee70aac9",
   "metadata": {},
   "source": [
    "## Model Evaluation\n",
    "\n",
    "1. Evaluate the performance of your trained models on the test set using appropriate regression metrics such as Root Mean Squared Error (RMSE), Mean Absolute Error (MAE), and R-squared (R²)."
   ]
  },
  {
   "cell_type": "code",
   "execution_count": null,
   "id": "82aaa864",
   "metadata": {},
   "outputs": [],
   "source": []
  },
  {
   "cell_type": "markdown",
   "id": "a7f074c9",
   "metadata": {},
   "source": [
    "## Save Model and Preprocessing Objects"
   ]
  },
  {
   "cell_type": "code",
   "execution_count": null,
   "id": "b02fa8a4",
   "metadata": {},
   "outputs": [],
   "source": []
  }
 ],
 "metadata": {
  "kernelspec": {
   "display_name": ".venv",
   "language": "python",
   "name": "python3"
  },
  "language_info": {
   "codemirror_mode": {
    "name": "ipython",
    "version": 3
   },
   "file_extension": ".py",
   "mimetype": "text/x-python",
   "name": "python",
   "nbconvert_exporter": "python",
   "pygments_lexer": "ipython3",
   "version": "3.13.1"
  }
 },
 "nbformat": 4,
 "nbformat_minor": 5
}
